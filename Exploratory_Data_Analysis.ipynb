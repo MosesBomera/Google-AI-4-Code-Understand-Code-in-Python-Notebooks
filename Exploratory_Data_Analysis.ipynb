{
 "cells": [
  {
   "cell_type": "markdown",
   "id": "87a242f6",
   "metadata": {},
   "source": [
    "#### LIBRARIES"
   ]
  },
  {
   "cell_type": "code",
   "execution_count": 2,
   "id": "6ee534aa",
   "metadata": {},
   "outputs": [],
   "source": [
    "import random\n",
    "import os\n",
    "import json\n",
    "import numpy as np\n",
    "import pandas as pd\n",
    "from pathlib import Path\n",
    "import utils"
   ]
  },
  {
   "cell_type": "markdown",
   "id": "41b836fa",
   "metadata": {},
   "source": [
    "#### DATA"
   ]
  },
  {
   "cell_type": "code",
   "execution_count": 3,
   "id": "5ef1ec8b",
   "metadata": {},
   "outputs": [],
   "source": [
    "data_dir = Path.cwd()/\"AI4Code\"\n",
    "train_dir = data_dir/\"train\""
   ]
  },
  {
   "cell_type": "code",
   "execution_count": 4,
   "id": "1da76096",
   "metadata": {},
   "outputs": [],
   "source": [
    "train_ancestors = pd.read_csv(data_dir/\"train_ancestors.csv\")\n",
    "train_orders = pd.read_csv(data_dir/\"train_orders.csv\")"
   ]
  },
  {
   "cell_type": "markdown",
   "id": "5d129c5b",
   "metadata": {},
   "source": [
    "#### A LOOK AT SAMPLE TRAIN DATA"
   ]
  },
  {
   "cell_type": "code",
   "execution_count": 5,
   "id": "091daa9a",
   "metadata": {},
   "outputs": [
    {
     "name": "stdout",
     "output_type": "stream",
     "text": [
      "Train data files: 139,256\n"
     ]
    }
   ],
   "source": [
    "print(f\"Train data files: {'{:,}'.format(len(os.listdir(train_dir)))}\")"
   ]
  },
  {
   "cell_type": "code",
   "execution_count": 6,
   "id": "921dea93",
   "metadata": {},
   "outputs": [
    {
     "data": {
      "text/plain": [
       "'2e0130bff2c2d4.json'"
      ]
     },
     "execution_count": 6,
     "metadata": {},
     "output_type": "execute_result"
    }
   ],
   "source": [
    "# Get a random file.\n",
    "sample_file = random.choice(os.listdir(train_dir))\n",
    "sample_file"
   ]
  },
  {
   "cell_type": "code",
   "execution_count": 10,
   "id": "f579a1c4",
   "metadata": {},
   "outputs": [
    {
     "data": {
      "text/plain": [
       "dict_keys(['cell_type', 'source'])"
      ]
     },
     "execution_count": 10,
     "metadata": {},
     "output_type": "execute_result"
    }
   ],
   "source": [
    "# Load the file, check out the keys.\n",
    "sample = utils.etl.load_json(train_dir/sample_file)\n",
    "sample.keys()"
   ]
  },
  {
   "cell_type": "code",
   "execution_count": 11,
   "id": "9c7167aa",
   "metadata": {},
   "outputs": [
    {
     "data": {
      "text/plain": [
       "True"
      ]
     },
     "execution_count": 11,
     "metadata": {},
     "output_type": "execute_result"
    }
   ],
   "source": [
    "sample['cell_type'].keys() == sample['source'].keys() # The keys are the same."
   ]
  },
  {
   "cell_type": "code",
   "execution_count": 12,
   "id": "f433a349",
   "metadata": {},
   "outputs": [
    {
     "data": {
      "text/plain": [
       "('code',\n",
       " '# --- CSS STYLE ---\\nfrom IPython.core.display import HTML\\ndef css_styling():\\n    styles = open(\"../input/competiongoal/archive/alerts.css\", \"r\").read()\\n    return HTML(\"<style>\"+styles+\"</style>\")\\ncss_styling()')"
      ]
     },
     "execution_count": 12,
     "metadata": {},
     "output_type": "execute_result"
    }
   ],
   "source": [
    "# Cell type and source.\n",
    "sample['cell_type'][list(sample['cell_type'].keys())[0]], sample['source'][list(sample['cell_type'].keys())[0]]"
   ]
  },
  {
   "cell_type": "code",
   "execution_count": 13,
   "id": "59554098",
   "metadata": {},
   "outputs": [
    {
     "data": {
      "text/plain": [
       "'03bd3cab cbb449a8 f8390fcc 50d42d7b 33b8c022 2889f1ef 82e1d0c4 e781619a a2d0dd0c 3602b32c 23fea3d5 9ffa2c4f 3e2959b9 714776f4 4c56ce37 e6f70dc5 fa26765e 8a9a1338 dfead3b0 c0804feb c2585582 61df9784 193c1ff3 242705b5 df45a411 433a76bd 91c34590 787ddc02 8542a748 0638496b 7e85ce5b 8a2e265d b8ed18a0 739b2cd5 2191a9e3 da8604e6 e476d51c c8155a11 424f188a 1a2b01a0 f76c7ab2 259b8682 c68ffb39 ebf1a4ad d9fc7f42 48e6d207 bbbc4d57 52d48021 254da3d1 62d3adba a3f16efb 12704b7a 8eca5988 9f58f4c8 cb7e9e1c 4b95da0a 61208acb 252886e1 5911d7b4 963974c9 64af6646 10ad7b99 8a7c09b7 c34f8fa2 7bff13c4 76d230c7 e1dea8a9 bb1f8133 c1f18e61 917bbc15 ca537ba1 3e0d0f18 cf87b120 bbfe191b 66379bb2 afd2b982 2053d595'"
      ]
     },
     "execution_count": 13,
     "metadata": {},
     "output_type": "execute_result"
    }
   ],
   "source": [
    "# What do the labels look like?\n",
    "sample_orders = train_orders[train_orders.id==sample_file.split('.')[0]]\n",
    "sample_orders['cell_order'].squeeze()"
   ]
  },
  {
   "cell_type": "code",
   "execution_count": 14,
   "id": "6d31e7e1",
   "metadata": {},
   "outputs": [
    {
     "data": {
      "text/html": [
       "<div>\n",
       "<style scoped>\n",
       "    .dataframe tbody tr th:only-of-type {\n",
       "        vertical-align: middle;\n",
       "    }\n",
       "\n",
       "    .dataframe tbody tr th {\n",
       "        vertical-align: top;\n",
       "    }\n",
       "\n",
       "    .dataframe thead th {\n",
       "        text-align: right;\n",
       "    }\n",
       "</style>\n",
       "<table border=\"1\" class=\"dataframe\">\n",
       "  <thead>\n",
       "    <tr style=\"text-align: right;\">\n",
       "      <th></th>\n",
       "      <th>id</th>\n",
       "      <th>ancestor_id</th>\n",
       "      <th>parent_id</th>\n",
       "    </tr>\n",
       "  </thead>\n",
       "  <tbody>\n",
       "    <tr>\n",
       "      <th>25019</th>\n",
       "      <td>2e0130bff2c2d4</td>\n",
       "      <td>c40746f1</td>\n",
       "      <td>NaN</td>\n",
       "    </tr>\n",
       "  </tbody>\n",
       "</table>\n",
       "</div>"
      ],
      "text/plain": [
       "                   id ancestor_id parent_id\n",
       "25019  2e0130bff2c2d4    c40746f1       NaN"
      ]
     },
     "execution_count": 14,
     "metadata": {},
     "output_type": "execute_result"
    }
   ],
   "source": [
    "# Un-huh?\n",
    "# What about the ancestors?\n",
    "sample_ancestors = train_ancestors[train_ancestors.id==sample_file.split('.')[0]]\n",
    "sample_ancestors"
   ]
  },
  {
   "cell_type": "code",
   "execution_count": 15,
   "id": "8891b7bf",
   "metadata": {},
   "outputs": [
    {
     "data": {
      "text/plain": [
       "4569bfc1    65\n",
       "51dd4f97    49\n",
       "021526f8    44\n",
       "09489e94    43\n",
       "c65a23e9    41\n",
       "Name: ancestor_id, dtype: int64"
      ]
     },
     "execution_count": 15,
     "metadata": {},
     "output_type": "execute_result"
    }
   ],
   "source": [
    "# What is the ancestor_id?\n",
    "train_ancestors.ancestor_id.value_counts()[:5]"
   ]
  },
  {
   "cell_type": "code",
   "execution_count": 16,
   "id": "6fdf4ee5",
   "metadata": {},
   "outputs": [
    {
     "data": {
      "text/html": [
       "<div>\n",
       "<style scoped>\n",
       "    .dataframe tbody tr th:only-of-type {\n",
       "        vertical-align: middle;\n",
       "    }\n",
       "\n",
       "    .dataframe tbody tr th {\n",
       "        vertical-align: top;\n",
       "    }\n",
       "\n",
       "    .dataframe thead th {\n",
       "        text-align: right;\n",
       "    }\n",
       "</style>\n",
       "<table border=\"1\" class=\"dataframe\">\n",
       "  <thead>\n",
       "    <tr style=\"text-align: right;\">\n",
       "      <th></th>\n",
       "      <th>id</th>\n",
       "      <th>ancestor_id</th>\n",
       "      <th>parent_id</th>\n",
       "    </tr>\n",
       "  </thead>\n",
       "  <tbody>\n",
       "    <tr>\n",
       "      <th>2613</th>\n",
       "      <td>04fdcde7f55004</td>\n",
       "      <td>4569bfc1</td>\n",
       "      <td>9d45e544c18f00</td>\n",
       "    </tr>\n",
       "    <tr>\n",
       "      <th>4449</th>\n",
       "      <td>0841913c81f268</td>\n",
       "      <td>4569bfc1</td>\n",
       "      <td>9d45e544c18f00</td>\n",
       "    </tr>\n",
       "    <tr>\n",
       "      <th>4918</th>\n",
       "      <td>0920005584e83d</td>\n",
       "      <td>4569bfc1</td>\n",
       "      <td>9d45e544c18f00</td>\n",
       "    </tr>\n",
       "    <tr>\n",
       "      <th>9248</th>\n",
       "      <td>1116c472def990</td>\n",
       "      <td>4569bfc1</td>\n",
       "      <td>9d45e544c18f00</td>\n",
       "    </tr>\n",
       "    <tr>\n",
       "      <th>10760</th>\n",
       "      <td>13c05cd8dde798</td>\n",
       "      <td>4569bfc1</td>\n",
       "      <td>9d45e544c18f00</td>\n",
       "    </tr>\n",
       "    <tr>\n",
       "      <th>...</th>\n",
       "      <td>...</td>\n",
       "      <td>...</td>\n",
       "      <td>...</td>\n",
       "    </tr>\n",
       "    <tr>\n",
       "      <th>134663</th>\n",
       "      <td>f793a077c860b1</td>\n",
       "      <td>4569bfc1</td>\n",
       "      <td>9d45e544c18f00</td>\n",
       "    </tr>\n",
       "    <tr>\n",
       "      <th>136204</th>\n",
       "      <td>fa5c26e0d7006c</td>\n",
       "      <td>4569bfc1</td>\n",
       "      <td>9d45e544c18f00</td>\n",
       "    </tr>\n",
       "    <tr>\n",
       "      <th>136260</th>\n",
       "      <td>fa7292da3a2d0f</td>\n",
       "      <td>4569bfc1</td>\n",
       "      <td>9d45e544c18f00</td>\n",
       "    </tr>\n",
       "    <tr>\n",
       "      <th>137076</th>\n",
       "      <td>fbf36be84a7e6e</td>\n",
       "      <td>4569bfc1</td>\n",
       "      <td>9d45e544c18f00</td>\n",
       "    </tr>\n",
       "    <tr>\n",
       "      <th>139047</th>\n",
       "      <td>ffa00bb87d8664</td>\n",
       "      <td>4569bfc1</td>\n",
       "      <td>9d45e544c18f00</td>\n",
       "    </tr>\n",
       "  </tbody>\n",
       "</table>\n",
       "<p>65 rows × 3 columns</p>\n",
       "</div>"
      ],
      "text/plain": [
       "                    id ancestor_id       parent_id\n",
       "2613    04fdcde7f55004    4569bfc1  9d45e544c18f00\n",
       "4449    0841913c81f268    4569bfc1  9d45e544c18f00\n",
       "4918    0920005584e83d    4569bfc1  9d45e544c18f00\n",
       "9248    1116c472def990    4569bfc1  9d45e544c18f00\n",
       "10760   13c05cd8dde798    4569bfc1  9d45e544c18f00\n",
       "...                ...         ...             ...\n",
       "134663  f793a077c860b1    4569bfc1  9d45e544c18f00\n",
       "136204  fa5c26e0d7006c    4569bfc1  9d45e544c18f00\n",
       "136260  fa7292da3a2d0f    4569bfc1  9d45e544c18f00\n",
       "137076  fbf36be84a7e6e    4569bfc1  9d45e544c18f00\n",
       "139047  ffa00bb87d8664    4569bfc1  9d45e544c18f00\n",
       "\n",
       "[65 rows x 3 columns]"
      ]
     },
     "execution_count": 16,
     "metadata": {},
     "output_type": "execute_result"
    }
   ],
   "source": [
    "# Ancestor ids with more than one reference notebook?\n",
    "# The notebooks all have the same parent.\n",
    "train_ancestors[train_ancestors.ancestor_id=='4569bfc1']"
   ]
  },
  {
   "cell_type": "code",
   "execution_count": null,
   "id": "c0cb7dba",
   "metadata": {},
   "outputs": [],
   "source": []
  }
 ],
 "metadata": {
  "kernelspec": {
   "display_name": "Python 3.9.12 ('base')",
   "language": "python",
   "name": "python3"
  },
  "language_info": {
   "codemirror_mode": {
    "name": "ipython",
    "version": 3
   },
   "file_extension": ".py",
   "mimetype": "text/x-python",
   "name": "python",
   "nbconvert_exporter": "python",
   "pygments_lexer": "ipython3",
   "version": "3.9.12"
  },
  "vscode": {
   "interpreter": {
    "hash": "838464f626d1c2131f81e3dbdd6ee508d4d3597e280bdd97d544fc4582534c36"
   }
  }
 },
 "nbformat": 4,
 "nbformat_minor": 5
}
