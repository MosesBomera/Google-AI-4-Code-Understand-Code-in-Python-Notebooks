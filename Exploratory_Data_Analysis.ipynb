{
 "cells": [
  {
   "cell_type": "markdown",
   "id": "be5758be",
   "metadata": {},
   "source": [
    "#### LIBRARIES"
   ]
  },
  {
   "cell_type": "code",
   "execution_count": 1,
   "id": "c52916a3",
   "metadata": {},
   "outputs": [],
   "source": [
    "import random\n",
    "import os\n",
    "import json\n",
    "import numpy as np\n",
    "import pandas as pd\n",
    "from pathlib import Path"
   ]
  },
  {
   "cell_type": "markdown",
   "id": "a7fd920c",
   "metadata": {},
   "source": [
    "#### UTILITIES"
   ]
  },
  {
   "cell_type": "code",
   "execution_count": 2,
   "id": "ec6f46a6",
   "metadata": {},
   "outputs": [],
   "source": [
    "def load_json(path):\n",
    "    \"\"\"\n",
    "    Load a JSON file given a path.\n",
    "    \n",
    "    Parameters\n",
    "    ----------\n",
    "    path\n",
    "        The path to the JSON file.\n",
    "        \n",
    "    Returns\n",
    "    -------\n",
    "    data\n",
    "        The content of the JSON file.\n",
    "    \"\"\"\n",
    "    \n",
    "    with open(path) as json_file:\n",
    "        data = json.load(json_file)\n",
    "    return data"
   ]
  },
  {
   "cell_type": "markdown",
   "id": "2137e9be",
   "metadata": {},
   "source": [
    "#### DATA"
   ]
  },
  {
   "cell_type": "code",
   "execution_count": 3,
   "id": "784f39f8",
   "metadata": {},
   "outputs": [],
   "source": [
    "data_dir = Path.cwd()/\"AI4Code\"\n",
    "train_dir = data_dir/\"train\""
   ]
  },
  {
   "cell_type": "code",
   "execution_count": 4,
   "id": "72a53632",
   "metadata": {},
   "outputs": [],
   "source": [
    "train_ancestors = pd.read_csv(data_dir/\"train_ancestors.csv\")\n",
    "train_orders = pd.read_csv(data_dir/\"train_orders.csv\")"
   ]
  },
  {
   "cell_type": "markdown",
   "id": "430a65bf",
   "metadata": {},
   "source": [
    "#### A LOOK AT SAMPLE TRAIN DATA"
   ]
  },
  {
   "cell_type": "code",
   "execution_count": 5,
   "id": "456bbe80",
   "metadata": {},
   "outputs": [
    {
     "name": "stdout",
     "output_type": "stream",
     "text": [
      "Train data files: 139,256\n"
     ]
    }
   ],
   "source": [
    "print(f\"Train data files: {'{:,}'.format(len(os.listdir(train_dir)))}\")"
   ]
  },
  {
   "cell_type": "code",
   "execution_count": 6,
   "id": "0716f746",
   "metadata": {},
   "outputs": [
    {
     "data": {
      "text/plain": [
       "'6ea6ec463c5dfe.json'"
      ]
     },
     "execution_count": 6,
     "metadata": {},
     "output_type": "execute_result"
    }
   ],
   "source": [
    "# Get a random file.\n",
    "sample_file = random.choice(os.listdir(train_dir))\n",
    "sample_file"
   ]
  },
  {
   "cell_type": "code",
   "execution_count": 7,
   "id": "b3fb86d5",
   "metadata": {},
   "outputs": [
    {
     "data": {
      "text/plain": [
       "dict_keys(['cell_type', 'source'])"
      ]
     },
     "execution_count": 7,
     "metadata": {},
     "output_type": "execute_result"
    }
   ],
   "source": [
    "# Load the file, check out the keys.\n",
    "sample = load_json(train_dir/sample_file)\n",
    "sample.keys()"
   ]
  },
  {
   "cell_type": "code",
   "execution_count": 8,
   "id": "cc266cb5",
   "metadata": {},
   "outputs": [
    {
     "data": {
      "text/plain": [
       "True"
      ]
     },
     "execution_count": 8,
     "metadata": {},
     "output_type": "execute_result"
    }
   ],
   "source": [
    "sample['cell_type'].keys() == sample['source'].keys() # The keys are the same."
   ]
  },
  {
   "cell_type": "code",
   "execution_count": 16,
   "id": "61f600aa",
   "metadata": {},
   "outputs": [
    {
     "data": {
      "text/plain": [
       "('code',\n",
       " \"import tensorflow as tf\\nfrom tensorflow import keras\\nfrom tensorflow.keras import layers\\nimport tensorflow_addons as tfa\\nfrom kaggle_datasets import KaggleDatasets\\nimport matplotlib.pyplot as plt\\nimport numpy as np\\nimport re\\nimport os\\nimport math\\nimport random\\nimport cv2\\n\\ntry:\\n    tpu = tf.distribute.cluster_resolver.TPUClusterResolver()\\n    print('Device:', tpu.master())\\n    tf.config.experimental_connect_to_cluster(tpu)\\n    tf.tpu.experimental.initialize_tpu_system(tpu)\\n    strategy = tf.distribute.experimental.TPUStrategy(tpu)\\nexcept:\\n    strategy = tf.distribute.get_strategy()\")"
      ]
     },
     "execution_count": 16,
     "metadata": {},
     "output_type": "execute_result"
    }
   ],
   "source": [
    "# Cell type and source.\n",
    "sample['cell_type'][list(sample['cell_type'].keys())[0]], sample['source'][list(sample['cell_type'].keys())[0]]"
   ]
  },
  {
   "cell_type": "code",
   "execution_count": 17,
   "id": "698ab54e",
   "metadata": {},
   "outputs": [
    {
     "data": {
      "text/plain": [
       "'934a8d45 bb934795 cf720344 4a5f0b63 cfae70e2 eadd3d40 8c2929ec 9e54e28a e0b01374 dc0ca82c 065e4075 92db3ceb a1f6ce69 594628fa 6199ece2 ccea337e 8ac58ade 73fd6c47 c0cc4c7d 416f75e9 ce3d282f 0eb60356 c69a36d7 f58f9581 9ccb3c04 a8f46cfa 1a823039 22948d33 b7b56332'"
      ]
     },
     "execution_count": 17,
     "metadata": {},
     "output_type": "execute_result"
    }
   ],
   "source": [
    "# What do the labels look like?\n",
    "sample_orders = train_orders[train_orders.id==sample_file.split('.')[0]]\n",
    "sample_orders['cell_order'].squeeze()"
   ]
  },
  {
   "cell_type": "code",
   "execution_count": 21,
   "id": "df94010f",
   "metadata": {},
   "outputs": [
    {
     "data": {
      "text/html": [
       "<div>\n",
       "<style scoped>\n",
       "    .dataframe tbody tr th:only-of-type {\n",
       "        vertical-align: middle;\n",
       "    }\n",
       "\n",
       "    .dataframe tbody tr th {\n",
       "        vertical-align: top;\n",
       "    }\n",
       "\n",
       "    .dataframe thead th {\n",
       "        text-align: right;\n",
       "    }\n",
       "</style>\n",
       "<table border=\"1\" class=\"dataframe\">\n",
       "  <thead>\n",
       "    <tr style=\"text-align: right;\">\n",
       "      <th></th>\n",
       "      <th>id</th>\n",
       "      <th>ancestor_id</th>\n",
       "      <th>parent_id</th>\n",
       "    </tr>\n",
       "  </thead>\n",
       "  <tbody>\n",
       "    <tr>\n",
       "      <th>59984</th>\n",
       "      <td>6ea6ec463c5dfe</td>\n",
       "      <td>bceebd93</td>\n",
       "      <td>NaN</td>\n",
       "    </tr>\n",
       "  </tbody>\n",
       "</table>\n",
       "</div>"
      ],
      "text/plain": [
       "                   id ancestor_id parent_id\n",
       "59984  6ea6ec463c5dfe    bceebd93       NaN"
      ]
     },
     "execution_count": 21,
     "metadata": {},
     "output_type": "execute_result"
    }
   ],
   "source": [
    "# Un-huh?\n",
    "# What about the ancestors?\n",
    "sample_ancestors = train_ancestors[train_ancestors.id==sample_file.split('.')[0]]\n",
    "sample_ancestors"
   ]
  },
  {
   "cell_type": "code",
   "execution_count": 26,
   "id": "b9f0cc07",
   "metadata": {},
   "outputs": [
    {
     "data": {
      "text/plain": [
       "4569bfc1    65\n",
       "51dd4f97    49\n",
       "021526f8    44\n",
       "09489e94    43\n",
       "c65a23e9    41\n",
       "Name: ancestor_id, dtype: int64"
      ]
     },
     "execution_count": 26,
     "metadata": {},
     "output_type": "execute_result"
    }
   ],
   "source": [
    "# What is the ancestor_id?\n",
    "train_ancestors.ancestor_id.value_counts()[:5]"
   ]
  },
  {
   "cell_type": "code",
   "execution_count": 28,
   "id": "ae4694cd",
   "metadata": {},
   "outputs": [
    {
     "data": {
      "text/html": [
       "<div>\n",
       "<style scoped>\n",
       "    .dataframe tbody tr th:only-of-type {\n",
       "        vertical-align: middle;\n",
       "    }\n",
       "\n",
       "    .dataframe tbody tr th {\n",
       "        vertical-align: top;\n",
       "    }\n",
       "\n",
       "    .dataframe thead th {\n",
       "        text-align: right;\n",
       "    }\n",
       "</style>\n",
       "<table border=\"1\" class=\"dataframe\">\n",
       "  <thead>\n",
       "    <tr style=\"text-align: right;\">\n",
       "      <th></th>\n",
       "      <th>id</th>\n",
       "      <th>ancestor_id</th>\n",
       "      <th>parent_id</th>\n",
       "    </tr>\n",
       "  </thead>\n",
       "  <tbody>\n",
       "    <tr>\n",
       "      <th>2613</th>\n",
       "      <td>04fdcde7f55004</td>\n",
       "      <td>4569bfc1</td>\n",
       "      <td>9d45e544c18f00</td>\n",
       "    </tr>\n",
       "    <tr>\n",
       "      <th>4449</th>\n",
       "      <td>0841913c81f268</td>\n",
       "      <td>4569bfc1</td>\n",
       "      <td>9d45e544c18f00</td>\n",
       "    </tr>\n",
       "    <tr>\n",
       "      <th>4918</th>\n",
       "      <td>0920005584e83d</td>\n",
       "      <td>4569bfc1</td>\n",
       "      <td>9d45e544c18f00</td>\n",
       "    </tr>\n",
       "    <tr>\n",
       "      <th>9248</th>\n",
       "      <td>1116c472def990</td>\n",
       "      <td>4569bfc1</td>\n",
       "      <td>9d45e544c18f00</td>\n",
       "    </tr>\n",
       "    <tr>\n",
       "      <th>10760</th>\n",
       "      <td>13c05cd8dde798</td>\n",
       "      <td>4569bfc1</td>\n",
       "      <td>9d45e544c18f00</td>\n",
       "    </tr>\n",
       "    <tr>\n",
       "      <th>...</th>\n",
       "      <td>...</td>\n",
       "      <td>...</td>\n",
       "      <td>...</td>\n",
       "    </tr>\n",
       "    <tr>\n",
       "      <th>134663</th>\n",
       "      <td>f793a077c860b1</td>\n",
       "      <td>4569bfc1</td>\n",
       "      <td>9d45e544c18f00</td>\n",
       "    </tr>\n",
       "    <tr>\n",
       "      <th>136204</th>\n",
       "      <td>fa5c26e0d7006c</td>\n",
       "      <td>4569bfc1</td>\n",
       "      <td>9d45e544c18f00</td>\n",
       "    </tr>\n",
       "    <tr>\n",
       "      <th>136260</th>\n",
       "      <td>fa7292da3a2d0f</td>\n",
       "      <td>4569bfc1</td>\n",
       "      <td>9d45e544c18f00</td>\n",
       "    </tr>\n",
       "    <tr>\n",
       "      <th>137076</th>\n",
       "      <td>fbf36be84a7e6e</td>\n",
       "      <td>4569bfc1</td>\n",
       "      <td>9d45e544c18f00</td>\n",
       "    </tr>\n",
       "    <tr>\n",
       "      <th>139047</th>\n",
       "      <td>ffa00bb87d8664</td>\n",
       "      <td>4569bfc1</td>\n",
       "      <td>9d45e544c18f00</td>\n",
       "    </tr>\n",
       "  </tbody>\n",
       "</table>\n",
       "<p>65 rows × 3 columns</p>\n",
       "</div>"
      ],
      "text/plain": [
       "                    id ancestor_id       parent_id\n",
       "2613    04fdcde7f55004    4569bfc1  9d45e544c18f00\n",
       "4449    0841913c81f268    4569bfc1  9d45e544c18f00\n",
       "4918    0920005584e83d    4569bfc1  9d45e544c18f00\n",
       "9248    1116c472def990    4569bfc1  9d45e544c18f00\n",
       "10760   13c05cd8dde798    4569bfc1  9d45e544c18f00\n",
       "...                ...         ...             ...\n",
       "134663  f793a077c860b1    4569bfc1  9d45e544c18f00\n",
       "136204  fa5c26e0d7006c    4569bfc1  9d45e544c18f00\n",
       "136260  fa7292da3a2d0f    4569bfc1  9d45e544c18f00\n",
       "137076  fbf36be84a7e6e    4569bfc1  9d45e544c18f00\n",
       "139047  ffa00bb87d8664    4569bfc1  9d45e544c18f00\n",
       "\n",
       "[65 rows x 3 columns]"
      ]
     },
     "execution_count": 28,
     "metadata": {},
     "output_type": "execute_result"
    }
   ],
   "source": [
    "# Ancestor ids with more than one reference notebook?\n",
    "# The notebooks all have the same parent.\n",
    "train_ancestors[train_ancestors.ancestor_id=='4569bfc1']"
   ]
  },
  {
   "cell_type": "code",
   "execution_count": null,
   "id": "32680d10",
   "metadata": {},
   "outputs": [],
   "source": []
  }
 ],
 "metadata": {
  "kernelspec": {
   "display_name": "Python 3 (ipykernel)",
   "language": "python",
   "name": "python3"
  },
  "language_info": {
   "codemirror_mode": {
    "name": "ipython",
    "version": 3
   },
   "file_extension": ".py",
   "mimetype": "text/x-python",
   "name": "python",
   "nbconvert_exporter": "python",
   "pygments_lexer": "ipython3",
   "version": "3.9.12"
  }
 },
 "nbformat": 4,
 "nbformat_minor": 5
}
